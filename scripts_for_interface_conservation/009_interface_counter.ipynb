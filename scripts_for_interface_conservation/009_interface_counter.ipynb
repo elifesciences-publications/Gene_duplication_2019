{
 "cells": [
  {
   "cell_type": "markdown",
   "metadata": {},
   "source": [
    "# Interface counter\n",
    "\n",
    "This script will receive a FASTA file with the interaces as lowercase residues and will return the counts of residues from each chain that are a part of interfaces and the total counts of residues.\n",
    "\n"
   ]
  },
  {
   "cell_type": "code",
   "execution_count": 12,
   "metadata": {
    "collapsed": true
   },
   "outputs": [],
   "source": [
    "# Load libraries\n",
    "from Bio import SeqIO\n",
    "import glob\n",
    "import csv"
   ]
  },
  {
   "cell_type": "code",
   "execution_count": null,
   "metadata": {
    "collapsed": true
   },
   "outputs": [],
   "source": [
    "# The path where all the FASTA files for the complexes are saved. These files must have the interfaces in lowercase.\n",
    "path_fasta = <path/to/fasta/files>"
   ]
  },
  {
   "cell_type": "code",
   "execution_count": 13,
   "metadata": {},
   "outputs": [
    {
     "name": "stdout",
     "output_type": "stream",
     "text": [
      "1a3w | chain A | 492 aa\n",
      "A\n",
      "srlerltslSDLRRTSIIGTIGPKTNNPETLVALRKAGLNIVRMNFSHGSYEYHKSVIDNARKSEELYPGRPLAIALDTKGPEIRTGTTTNDVDYPIPPNHEMIFTTDDKYAKACDDKIMYVDYKNITKVISAGRIIyvddgvlSFQVLEVVDTLKVKALNAGKICSHKGVNLPGTDVDLPALSEKDKEDLRFGVKNGVHMVFASFIRTANDVLTIREVLGEQGKDVKIIVKIENQQGVNNFDEILKVTDGVMvargdlgieipapevlavqkkliaksnlAGKPVICatqmleSMTYnprptraevsdvgnaildgaDCVMLsGETAKGNYPINAVTtmaetaviaeqaIaylpnyddmrnctpkptsttetvaasavaavfeqkaKAIIVLSTSGTTPRLVSKyRPNCPIILVTRCPRAARFSHLYRGVFPFVFEKEPVSDWTDDVEARINFGIEKAKEFGILKKGDtyvsiqgfkagagHsntlqvstV\n",
      "1a3w | chain B | 492 aa\n",
      "B\n",
      "srlerltslSDLRRTSIIGTIGPKTNNPETLVALRKAGLNIVRMNFSHGSYEYHKSVIDNARKSEELYPGRPLAIALDTKGPEIRTGTTTNDVDYPIPPNHEMIFTTDDKYAKACDDKIMYVDYKNITKVISAGRIIyvddgvlSFQVLEVVDTLKVKALNAGKICSHKGVNLPGTDVDLPALSEKDKEDLRFGVKNGVHMVFASFIRTANDVLTIREVLGEQGKDVKIIVKIENQQGVNNFDEILKVTDGVMvargdlgieipapevlavqkkliaksnlAGKPVICatqmleSMTYnprptraevsdvgnaildgaDCVMLsGETAKGNYPINAVTtmaetaviaeqaIaylpnyddmrnctpkptsttetvaasavaavfeqkaKAIIVLSTSGTTPRLVSKyRPNCPIILVTRCPRAARFSHLYRGVFPFVFEKEPVSDWTDDVEARINFGIEKAKEFGILKKGDtyvsiqgfkagagHsntlqvstV\n",
      "1a3w | chain C | 489 aa\n",
      "C\n",
      "srlerltslSDLRRTSIIGTIGPKTNNPETLVALRKAGLNIVRMNFSHGSYEYHKSVIDNARKSEELYPGRPLAIALDTKGPEIRTGTTTNDPIPPNHEMIFTTDDKYAKACDDKIMYVDYKNITKVISAGRIIyvddgvLSFQVLEVVDTLKVKALNAGKICSHKGVNLPGTDVDLPALSEKDKEDLRFGVKNGVHMVFASFIRTANDVLTIREVLGEQGKDVKIIVKIENQQGVNNFDEILKVTDGVMvargdlgieipapevlavqkkliaksnlAGKPVICatqmleSMTYnprptraevsdvgnaildgaDCVMLsGETAKGNYPINAVTtmaetaviaeqaIaylpnyddmrnctpkptsttetvaasavaavfeqkaKAIIVLSTSGTTPRLVSKyRPNCPIILVTRCPRAARFSHLYRGVFPFVFEKEPVSDWTDDVEARINFGIEKAKEFGILKKGDtyvsiqgFKAGAGHsntlqvstV\n",
      "1a3w | chain D | 489 aa\n",
      "D\n",
      "srlerltslSDLRRTSIIGTIGPKTNNPETLVALRKAGLNIVRMNFSHGSYEYHKSVIDNARKSEELYPGRPLAIALDTKGPEIRTGTTTNDPIPPNHEMIFTTDDKYAKACDDKIMYVDYKNITKVISAGRIIyvddgvLSFQVLEVVDTLKVKALNAGKICSHKGVNLPGTDVDLPALSEKDKEDLRFGVKNGVHMVFASFIRTANDVLTIREVLGEQGKDVKIIVKIENQQGVNNFDEILKVTDGVMvargdlgieipapevlavqkkliaksnlAGKPVICatqmleSMTYnprptraevsdvgnaildgaDCVMLsGETAKGNYPINAVTtmaetaviaeqaIaylpnyddmrnctpkptsttetvaasavaavfeqkaKAIIVLSTSGTTPRLVSKyRPNCPIILVTRCPRAARFSHLYRGVFPFVFEKEPVSDWTDDVEARINFGIEKAKEFGILKKGDtyvsiqgFKAGAGHsntlqvstV\n"
     ]
    }
   ],
   "source": [
    "# Parse the file\n",
    "handle = SeqIO.parse('Data/dist_regions_1a3w.fasta', 'fasta')\n",
    "\n",
    "for sequence in handle:\n",
    "    print sequence.description\n",
    "    description_list = sequence.description.split(' | ')\n",
    "    chain = description_list[1].split(' ')[1]\n",
    "    print chain\n",
    "    print sequence.seq"
   ]
  },
  {
   "cell_type": "code",
   "execution_count": 14,
   "metadata": {
    "collapsed": true
   },
   "outputs": [],
   "source": [
    "# A function to count lowercase letters\n",
    "# Taken from https://stackoverflow.com/questions/10953189/count-lower-case-characters-in-a-string\n",
    "def n_lower_chars(string):\n",
    "    return sum([c.islower() for c in string])"
   ]
  },
  {
   "cell_type": "code",
   "execution_count": 15,
   "metadata": {},
   "outputs": [
    {
     "data": {
      "text/plain": [
       "'A, 141, 492; B, 141, 492; C, 134, 489; D, 134, 489'"
      ]
     },
     "execution_count": 15,
     "metadata": {},
     "output_type": "execute_result"
    }
   ],
   "source": [
    "handle = SeqIO.parse('Data/dist_regions_1a3w.fasta', 'fasta')\n",
    "\n",
    "# Prepare a list to contain all the information\n",
    "interface_list = []\n",
    "\n",
    "for sequence in handle:\n",
    "    description_list = sequence.description.split(' | ')\n",
    "    chain = description_list[1].split(' ')[1]\n",
    "    interface_count = n_lower_chars(sequence.seq)\n",
    "    all_seq_count = len(sequence.seq)\n",
    "    interface_list.append(', '.join([chain, str(interface_count), str(all_seq_count)]))\n",
    "\n",
    "'; '.join(interface_list)"
   ]
  },
  {
   "cell_type": "markdown",
   "metadata": {},
   "source": [
    "Now that I have the code to count the interface residues in a FASTA file, I can just extend this to all of the files in the folder."
   ]
  },
  {
   "cell_type": "code",
   "execution_count": 16,
   "metadata": {
    "collapsed": true
   },
   "outputs": [],
   "source": [
    "outfile_handle = open('Data/interface_counts.txt', 'w')\n",
    "writer = csv.writer(outfile_handle, delimiter = '\\t')\n",
    "\n",
    "file_list = glob.glob(path_fasta + '/*fasta')\n",
    "\n",
    "for fasta_file in file_list:\n",
    "    prot = fasta_file.split('/')[-1].split('_')[2][0:4]\n",
    "    handle = SeqIO.parse(fasta_file, 'fasta')\n",
    "    \n",
    "    interface_list = []\n",
    "\n",
    "    for sequence in handle:\n",
    "        description_list = sequence.description.split(' | ')\n",
    "        chain = description_list[1].split(' ')[1]\n",
    "        interface_count = n_lower_chars(sequence.seq)\n",
    "        all_seq_count = len(sequence.seq)\n",
    "        interface_list.append(', '.join([chain, str(interface_count), str(all_seq_count)]))\n",
    "\n",
    "    counts = '; '.join(interface_list)\n",
    "    \n",
    "    new_row = [prot, counts]\n",
    "    writer.writerow(new_row)\n",
    "    \n",
    "outfile_handle.close()\n",
    "    "
   ]
  },
  {
   "cell_type": "code",
   "execution_count": null,
   "metadata": {
    "collapsed": true
   },
   "outputs": [],
   "source": []
  }
 ],
 "metadata": {
  "kernelspec": {
   "display_name": "Python 2",
   "language": "python",
   "name": "python2"
  },
  "language_info": {
   "codemirror_mode": {
    "name": "ipython",
    "version": 2
   },
   "file_extension": ".py",
   "mimetype": "text/x-python",
   "name": "python",
   "nbconvert_exporter": "python",
   "pygments_lexer": "ipython2",
   "version": "2.7.11"
  }
 },
 "nbformat": 4,
 "nbformat_minor": 2
}
